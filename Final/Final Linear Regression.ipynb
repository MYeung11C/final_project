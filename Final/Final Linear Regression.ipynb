{
 "cells": [
  {
   "cell_type": "code",
   "execution_count": 129,
   "id": "753dcdc7",
   "metadata": {},
   "outputs": [],
   "source": [
    "import pandas as pd\n",
    "from pathlib import Path\n",
    "import matplotlib.pyplot as plt\n",
    "import sklearn.linear_model"
   ]
  },
  {
   "cell_type": "code",
   "execution_count": 150,
   "id": "504cce5e",
   "metadata": {},
   "outputs": [
    {
     "data": {
      "text/html": [
       "<div>\n",
       "<style scoped>\n",
       "    .dataframe tbody tr th:only-of-type {\n",
       "        vertical-align: middle;\n",
       "    }\n",
       "\n",
       "    .dataframe tbody tr th {\n",
       "        vertical-align: top;\n",
       "    }\n",
       "\n",
       "    .dataframe thead th {\n",
       "        text-align: right;\n",
       "    }\n",
       "</style>\n",
       "<table border=\"1\" class=\"dataframe\">\n",
       "  <thead>\n",
       "    <tr style=\"text-align: right;\">\n",
       "      <th></th>\n",
       "      <th>MedianHouseholdIncome</th>\n",
       "      <th>CoronarMortalityper100K</th>\n",
       "      <th>HeartFailMortalityper100K</th>\n",
       "      <th>StrokeMortalitper100K</th>\n",
       "      <th>KidneyMortalityper100K</th>\n",
       "      <th>COPDMortalityper100K</th>\n",
       "      <th>DiabetesMortalityper100K</th>\n",
       "    </tr>\n",
       "  </thead>\n",
       "  <tbody>\n",
       "    <tr>\n",
       "      <th>0</th>\n",
       "      <td>42336</td>\n",
       "      <td>130</td>\n",
       "      <td>109</td>\n",
       "      <td>45</td>\n",
       "      <td>66</td>\n",
       "      <td>273</td>\n",
       "      <td>72</td>\n",
       "    </tr>\n",
       "    <tr>\n",
       "      <th>1</th>\n",
       "      <td>42644</td>\n",
       "      <td>122</td>\n",
       "      <td>111</td>\n",
       "      <td>45</td>\n",
       "      <td>77</td>\n",
       "      <td>364</td>\n",
       "      <td>102</td>\n",
       "    </tr>\n",
       "    <tr>\n",
       "      <th>2</th>\n",
       "      <td>44758</td>\n",
       "      <td>92</td>\n",
       "      <td>107</td>\n",
       "      <td>48</td>\n",
       "      <td>60</td>\n",
       "      <td>240</td>\n",
       "      <td>60</td>\n",
       "    </tr>\n",
       "    <tr>\n",
       "      <th>3</th>\n",
       "      <td>44811</td>\n",
       "      <td>110</td>\n",
       "      <td>110</td>\n",
       "      <td>42</td>\n",
       "      <td>76</td>\n",
       "      <td>345</td>\n",
       "      <td>90</td>\n",
       "    </tr>\n",
       "    <tr>\n",
       "      <th>4</th>\n",
       "      <td>45652</td>\n",
       "      <td>109</td>\n",
       "      <td>98</td>\n",
       "      <td>46</td>\n",
       "      <td>59</td>\n",
       "      <td>223</td>\n",
       "      <td>70</td>\n",
       "    </tr>\n",
       "  </tbody>\n",
       "</table>\n",
       "</div>"
      ],
      "text/plain": [
       "   MedianHouseholdIncome  CoronarMortalityper100K  HeartFailMortalityper100K  \\\n",
       "0                  42336                      130                        109   \n",
       "1                  42644                      122                        111   \n",
       "2                  44758                       92                        107   \n",
       "3                  44811                      110                        110   \n",
       "4                  45652                      109                         98   \n",
       "\n",
       "   StrokeMortalitper100K  KidneyMortalityper100K  COPDMortalityper100K  \\\n",
       "0                     45                      66                   273   \n",
       "1                     45                      77                   364   \n",
       "2                     48                      60                   240   \n",
       "3                     42                      76                   345   \n",
       "4                     46                      59                   223   \n",
       "\n",
       "   DiabetesMortalityper100K  \n",
       "0                        72  \n",
       "1                       102  \n",
       "2                        60  \n",
       "3                        90  \n",
       "4                        70  "
      ]
     },
     "execution_count": 150,
     "metadata": {},
     "output_type": "execute_result"
    }
   ],
   "source": [
    "df = pd.read_csv(Path('Finals-Copy1.csv'))\n",
    "df.head()"
   ]
  },
  {
   "cell_type": "code",
   "execution_count": 151,
   "id": "c07192b2",
   "metadata": {},
   "outputs": [
    {
     "data": {
      "image/png": "[encoded data removed]",
      "text/plain": [
       "<Figure size 432x288 with 1 Axes>"
      ]
     },
     "metadata": {
      "needs_background": "light"
     },
     "output_type": "display_data"
    }
   ],
   "source": [
    "plt.scatter(df.MedianHouseholdIncome, df.StrokeMortalitper100K)\n",
    "plt.xlabel('Median Household Income')\n",
    "plt.ylabel('Stroke Mortality per 100k')\n",
    "plt.show()"
   ]
  },
  {
   "cell_type": "code",
   "execution_count": 152,
   "id": "4b5698b7",
   "metadata": {},
   "outputs": [],
   "source": [
    "X = df.MedianHouseholdIncome.values.reshape(-1, 1)"
   ]
  },
  {
   "cell_type": "code",
   "execution_count": 153,
   "id": "16ddb40a",
   "metadata": {},
   "outputs": [
    {
     "data": {
      "text/plain": [
       "array([[42336],\n",
       "       [42644],\n",
       "       [44758],\n",
       "       [44811],\n",
       "       [45652]], dtype=int64)"
      ]
     },
     "execution_count": 153,
     "metadata": {},
     "output_type": "execute_result"
    }
   ],
   "source": [
    "X[:5]"
   ]
  },
  {
   "cell_type": "code",
   "execution_count": 154,
   "id": "2a8a971a",
   "metadata": {},
   "outputs": [
    {
     "data": {
      "text/plain": [
       "(50, 1)"
      ]
     },
     "execution_count": 154,
     "metadata": {},
     "output_type": "execute_result"
    }
   ],
   "source": [
    "X.shape"
   ]
  },
  {
   "cell_type": "code",
   "execution_count": 155,
   "id": "64b10ff1",
   "metadata": {},
   "outputs": [],
   "source": [
    "y = df.StrokeMortalitper100K"
   ]
  },
  {
   "cell_type": "code",
   "execution_count": 156,
   "id": "0736b081",
   "metadata": {},
   "outputs": [],
   "source": [
    "model = LinearRegression()"
   ]
  },
  {
   "cell_type": "code",
   "execution_count": 157,
   "id": "92dc587f",
   "metadata": {},
   "outputs": [
    {
     "data": {
      "text/plain": [
       "LinearRegression()"
      ]
     },
     "execution_count": 157,
     "metadata": {},
     "output_type": "execute_result"
    }
   ],
   "source": [
    "model.fit(X, y)"
   ]
  },
  {
   "cell_type": "code",
   "execution_count": 158,
   "id": "b45d6a02",
   "metadata": {},
   "outputs": [
    {
     "name": "stdout",
     "output_type": "stream",
     "text": [
      "(50,)\n"
     ]
    }
   ],
   "source": [
    "y_pred = model.predict(X)\n",
    "print(y_pred.shape)"
   ]
  },
  {
   "cell_type": "code",
   "execution_count": 161,
   "id": "9072ad3e",
   "metadata": {},
   "outputs": [
    {
     "data": {
      "image/png": "[encoded data removed]",
      "text/plain": [
       "<Figure size 432x288 with 1 Axes>"
      ]
     },
     "metadata": {
      "needs_background": "light"
     },
     "output_type": "display_data"
    }
   ],
   "source": [
    "plt.scatter(X, y)\n",
    "plt.xlabel('Median Household Income')\n",
    "plt.ylabel('Stroke Mortality per 100k')\n",
    "plt.plot(X, y_pred, color='red')\n",
    "plt.show()"
   ]
  },
  {
   "cell_type": "code",
   "execution_count": 162,
   "id": "fea4e931",
   "metadata": {},
   "outputs": [
    {
     "name": "stdout",
     "output_type": "stream",
     "text": [
      "[-0.00037303]\n",
      "57.59682616602905\n"
     ]
    }
   ],
   "source": [
    "print(model.coef_)\n",
    "print(model.intercept_)"
   ]
  }
 ],
 "metadata": {
  "kernelspec": {
   "display_name": "mlenv",
   "language": "python",
   "name": "mlenv"
  },
  "language_info": {
   "codemirror_mode": {
    "name": "ipython",
    "version": 3
   },
   "file_extension": ".py",
   "mimetype": "text/x-python",
   "name": "python",
   "nbconvert_exporter": "python",
   "pygments_lexer": "ipython3",
   "version": "3.9.12"
  }
 },
 "nbformat": 4,
 "nbformat_minor": 5
}
